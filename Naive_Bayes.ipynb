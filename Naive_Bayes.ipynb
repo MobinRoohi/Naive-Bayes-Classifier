{
 "cells": [
  {
   "cell_type": "markdown",
   "metadata": {},
   "source": [
    "# Project: Naive Bayes Classifier\n",
    "### Mobin Roohi\n",
    "### SID: 610300060"
   ]
  },
  {
   "cell_type": "markdown",
   "metadata": {},
   "source": [
    "In this project, we will implement a Naive Bayes classifier from the ground up and compare it with the Sci-kit implementation using two datasets."
   ]
  },
  {
   "cell_type": "markdown",
   "metadata": {},
   "source": [
    "### a) What is Naive Bayes?\n",
    "The optimal Bayes classifier works by using the bayes rule and class-conditional probability distributions available. \n",
    "$$P(\\omega_i|\\mathbf{x}) = \\frac{P(\\omega_i)p(\\mathbf{x}|\\omega_i)}{p(\\mathbf{x})},$$\n",
    "\n",
    "Following this, the discriminant function for the classifier becomes,\n",
    "$$g_i(\\mathbf{x}) = P(\\omega_i)p(\\mathbf{x}|\\omega_i).$$\n",
    "Using this discrimnant function, the Bayes classifier produces optimal results in terms of probability of classification error. However, there are two issues associated with the Bayes classifier that prevents it from being a practical classifier and mostly making it a theoretical and optimal benchmark to strive for. These issue are:\n",
    "\n",
    "1. There is an assumption that we know the class-conditional (likelihood) probability distributions and that they are available to us. In reality, this is usually not the case and these distributions need to be estimated, which may produce suboptimal results. There is also the case that estimating these distribution maybe too complex and challenging.\n",
    "\n",
    "2. The estimation of these joint distributions, which are needed for the classifier, is computationally expensive.\n",
    "\n",
    "Assuming that we can estimate the joint distributions, and that it is possible, the remaining issue is the second one mentioned. To fix this, we can make a \"naive\" assumption that there is conditional independence between every pair of features given the value of the class variable.\n",
    "Thus we can rewrite the result of the Bayes theorem as:\n",
    "$$P(\\omega_i|\\mathbf{x}) = \\frac{P(\\omega_i)p(\\mathbf{x}|\\omega_i)}{p(\\mathbf{x})} = \\frac{P(\\omega_i)\\prod_{j=1}^n p(x_j|\\omega_i)}{p(\\mathbf{x})}$$\n",
    "where $\\mathbf{x} = [x_1, x_2, \\dots, x_n]^T$.\n",
    "\n",
    "We can rewrite this as the following discriminant function,\n",
    "$$g_i(\\mathbf{x})={P(\\omega_i)\\prod_{j=1}^n p(x_j|\\omega_i)}$$\n",
    "This is the discriminant function for the ***Naive Bayes classifier***. So it is the Bayes classifier with the assumption of conditional independence. \n",
    "\n",
    "Naive Bayes classifiers can be fast compared to more complex methods. The decoupling of the class conditional feature distributions means that each distribution can be independently estimated as a one dimensional distribution. This helps solve issues that are cause by the curse of dimensionality.\n",
    "\n",
    "Although, the assumption of conditional independence makes the task less computationally expensive, it is clear that it may lead to more classification error, since the assumption may not be true. Despite this and it simplicity, Naive Bayes classifier has shown to work well in a wide range of application, such as text specific applications like email spam detection.\n",
    "\n",
    "Despite them being rare, independent data and features, could be a good indicator that this classifier will perform well. Naive Bayes also works well in high-dimensional spaces, such as text classification, where the dimensionality of the data (e.g., the number of unique words in the dataset) is very high."
   ]
  },
  {
   "cell_type": "markdown",
   "metadata": {},
   "source": [
    "### b) Implementation From Scratch"
   ]
  },
  {
   "cell_type": "markdown",
   "metadata": {},
   "source": [
    "First of all, we will familiarize ourselves with the dataset that we will be working with."
   ]
  },
  {
   "cell_type": "markdown",
   "metadata": {},
   "source": [
    "#### 1. Import Libraries"
   ]
  },
  {
   "cell_type": "code",
   "execution_count": 503,
   "metadata": {},
   "outputs": [],
   "source": [
    "import numpy as np\n",
    "import pandas as pd\n",
    "import matplotlib.pyplot as plt\n",
    "import seaborn as sns"
   ]
  },
  {
   "cell_type": "markdown",
   "metadata": {},
   "source": [
    "#### 2. Import Dataset"
   ]
  },
  {
   "cell_type": "code",
   "execution_count": 504,
   "metadata": {},
   "outputs": [],
   "source": [
    "data = \"./data/survey lung cancer.csv\"\n",
    "\n",
    "df = pd.read_csv(data, sep=',')"
   ]
  },
  {
   "cell_type": "markdown",
   "metadata": {},
   "source": [
    "#### 3. Exploratory Data Analysis"
   ]
  },
  {
   "cell_type": "code",
   "execution_count": 505,
   "metadata": {},
   "outputs": [
    {
     "data": {
      "text/plain": [
       "(309, 16)"
      ]
     },
     "execution_count": 505,
     "metadata": {},
     "output_type": "execute_result"
    }
   ],
   "source": [
    "# Dimensions (data_num, feature_num)\n",
    "df.shape"
   ]
  },
  {
   "cell_type": "code",
   "execution_count": 506,
   "metadata": {},
   "outputs": [
    {
     "data": {
      "text/html": [
       "<div>\n",
       "<style scoped>\n",
       "    .dataframe tbody tr th:only-of-type {\n",
       "        vertical-align: middle;\n",
       "    }\n",
       "\n",
       "    .dataframe tbody tr th {\n",
       "        vertical-align: top;\n",
       "    }\n",
       "\n",
       "    .dataframe thead th {\n",
       "        text-align: right;\n",
       "    }\n",
       "</style>\n",
       "<table border=\"1\" class=\"dataframe\">\n",
       "  <thead>\n",
       "    <tr style=\"text-align: right;\">\n",
       "      <th></th>\n",
       "      <th>GENDER</th>\n",
       "      <th>AGE</th>\n",
       "      <th>SMOKING</th>\n",
       "      <th>YELLOW_FINGERS</th>\n",
       "      <th>ANXIETY</th>\n",
       "      <th>PEER_PRESSURE</th>\n",
       "      <th>CHRONIC DISEASE</th>\n",
       "      <th>FATIGUE</th>\n",
       "      <th>ALLERGY</th>\n",
       "      <th>WHEEZING</th>\n",
       "      <th>ALCOHOL CONSUMING</th>\n",
       "      <th>COUGHING</th>\n",
       "      <th>SHORTNESS OF BREATH</th>\n",
       "      <th>SWALLOWING DIFFICULTY</th>\n",
       "      <th>CHEST PAIN</th>\n",
       "      <th>LUNG_CANCER</th>\n",
       "    </tr>\n",
       "  </thead>\n",
       "  <tbody>\n",
       "    <tr>\n",
       "      <th>0</th>\n",
       "      <td>M</td>\n",
       "      <td>69</td>\n",
       "      <td>1</td>\n",
       "      <td>2</td>\n",
       "      <td>2</td>\n",
       "      <td>1</td>\n",
       "      <td>1</td>\n",
       "      <td>2</td>\n",
       "      <td>1</td>\n",
       "      <td>2</td>\n",
       "      <td>2</td>\n",
       "      <td>2</td>\n",
       "      <td>2</td>\n",
       "      <td>2</td>\n",
       "      <td>2</td>\n",
       "      <td>YES</td>\n",
       "    </tr>\n",
       "    <tr>\n",
       "      <th>1</th>\n",
       "      <td>M</td>\n",
       "      <td>74</td>\n",
       "      <td>2</td>\n",
       "      <td>1</td>\n",
       "      <td>1</td>\n",
       "      <td>1</td>\n",
       "      <td>2</td>\n",
       "      <td>2</td>\n",
       "      <td>2</td>\n",
       "      <td>1</td>\n",
       "      <td>1</td>\n",
       "      <td>1</td>\n",
       "      <td>2</td>\n",
       "      <td>2</td>\n",
       "      <td>2</td>\n",
       "      <td>YES</td>\n",
       "    </tr>\n",
       "    <tr>\n",
       "      <th>2</th>\n",
       "      <td>F</td>\n",
       "      <td>59</td>\n",
       "      <td>1</td>\n",
       "      <td>1</td>\n",
       "      <td>1</td>\n",
       "      <td>2</td>\n",
       "      <td>1</td>\n",
       "      <td>2</td>\n",
       "      <td>1</td>\n",
       "      <td>2</td>\n",
       "      <td>1</td>\n",
       "      <td>2</td>\n",
       "      <td>2</td>\n",
       "      <td>1</td>\n",
       "      <td>2</td>\n",
       "      <td>NO</td>\n",
       "    </tr>\n",
       "    <tr>\n",
       "      <th>3</th>\n",
       "      <td>M</td>\n",
       "      <td>63</td>\n",
       "      <td>2</td>\n",
       "      <td>2</td>\n",
       "      <td>2</td>\n",
       "      <td>1</td>\n",
       "      <td>1</td>\n",
       "      <td>1</td>\n",
       "      <td>1</td>\n",
       "      <td>1</td>\n",
       "      <td>2</td>\n",
       "      <td>1</td>\n",
       "      <td>1</td>\n",
       "      <td>2</td>\n",
       "      <td>2</td>\n",
       "      <td>NO</td>\n",
       "    </tr>\n",
       "    <tr>\n",
       "      <th>4</th>\n",
       "      <td>F</td>\n",
       "      <td>63</td>\n",
       "      <td>1</td>\n",
       "      <td>2</td>\n",
       "      <td>1</td>\n",
       "      <td>1</td>\n",
       "      <td>1</td>\n",
       "      <td>1</td>\n",
       "      <td>1</td>\n",
       "      <td>2</td>\n",
       "      <td>1</td>\n",
       "      <td>2</td>\n",
       "      <td>2</td>\n",
       "      <td>1</td>\n",
       "      <td>1</td>\n",
       "      <td>NO</td>\n",
       "    </tr>\n",
       "  </tbody>\n",
       "</table>\n",
       "</div>"
      ],
      "text/plain": [
       "  GENDER AGE SMOKING  YELLOW_FINGERS  ANXIETY PEER_PRESSURE CHRONIC DISEASE  \\\n",
       "0      M  69       1               2        2             1               1   \n",
       "1      M  74       2               1        1             1               2   \n",
       "2      F  59       1               1        1             2               1   \n",
       "3      M  63       2               2        2             1               1   \n",
       "4      F  63       1               2        1             1               1   \n",
       "\n",
       "  FATIGUE  ALLERGY  WHEEZING ALCOHOL CONSUMING COUGHING SHORTNESS OF BREATH  \\\n",
       "0        2        1        2                 2        2                   2   \n",
       "1        2        2        1                 1        1                   2   \n",
       "2        2        1        2                 1        2                   2   \n",
       "3        1        1        1                 2        1                   1   \n",
       "4        1        1        2                 1        2                   2   \n",
       "\n",
       "  SWALLOWING DIFFICULTY  CHEST PAIN LUNG_CANCER  \n",
       "0                     2           2         YES  \n",
       "1                     2           2         YES  \n",
       "2                     1           2          NO  \n",
       "3                     2           2          NO  \n",
       "4                     1           1          NO  "
      ]
     },
     "execution_count": 506,
     "metadata": {},
     "output_type": "execute_result"
    }
   ],
   "source": [
    "# Preview of the first 5 rows\n",
    "df.head()"
   ]
  },
  {
   "cell_type": "code",
   "execution_count": 507,
   "metadata": {},
   "outputs": [
    {
     "name": "stdout",
     "output_type": "stream",
     "text": [
      "<class 'pandas.core.frame.DataFrame'>\n",
      "RangeIndex: 309 entries, 0 to 308\n",
      "Data columns (total 16 columns):\n",
      " #   Column                 Non-Null Count  Dtype \n",
      "---  ------                 --------------  ----- \n",
      " 0   GENDER                 309 non-null    object\n",
      " 1   AGE                    309 non-null    object\n",
      " 2   SMOKING                309 non-null    object\n",
      " 3   YELLOW_FINGERS         309 non-null    int64 \n",
      " 4   ANXIETY                309 non-null    int64 \n",
      " 5   PEER_PRESSURE          309 non-null    object\n",
      " 6   CHRONIC DISEASE        309 non-null    object\n",
      " 7   FATIGUE                309 non-null    object\n",
      " 8   ALLERGY                309 non-null    object\n",
      " 9   WHEEZING               309 non-null    object\n",
      " 10  ALCOHOL CONSUMING      309 non-null    object\n",
      " 11  COUGHING               309 non-null    object\n",
      " 12  SHORTNESS OF BREATH    309 non-null    object\n",
      " 13  SWALLOWING DIFFICULTY  309 non-null    object\n",
      " 14  CHEST PAIN             309 non-null    int64 \n",
      " 15  LUNG_CANCER            309 non-null    object\n",
      "dtypes: int64(3), object(13)\n",
      "memory usage: 38.8+ KB\n"
     ]
    }
   ],
   "source": [
    "# Summary\n",
    "df.info()"
   ]
  },
  {
   "cell_type": "markdown",
   "metadata": {},
   "source": [
    "#### 4. Preprocess the Data\n",
    "Convert the categorical data into numerical values and remove missing data."
   ]
  },
  {
   "cell_type": "code",
   "execution_count": 508,
   "metadata": {},
   "outputs": [
    {
     "data": {
      "text/plain": [
       "array([['M', '69', '1', 2, 2, '1', '1', '2', '1', '2', '2', '2', '2',\n",
       "        '2', 2, 'YES'],\n",
       "       ['M', '74', '2', 1, 1, '1', '2', '2', '2', '1', '1', '1', '2',\n",
       "        '2', 2, 'YES'],\n",
       "       ['F', '59', '1', 1, 1, '2', '1', '2', '1', '2', '1', '2', '2',\n",
       "        '1', 2, 'NO'],\n",
       "       ['M', '63', '2', 2, 2, '1', '1', '1', '1', '1', '2', '1', '1',\n",
       "        '2', 2, 'NO'],\n",
       "       ['F', '63', '1', 2, 1, '1', '1', '1', '1', '2', '1', '2', '2',\n",
       "        '1', 1, 'NO']], dtype=object)"
      ]
     },
     "execution_count": 508,
     "metadata": {},
     "output_type": "execute_result"
    }
   ],
   "source": [
    "train_data = df.values\n",
    "train_data[:5]"
   ]
  },
  {
   "cell_type": "code",
   "execution_count": 509,
   "metadata": {},
   "outputs": [],
   "source": [
    "train_data = df.values\n",
    "train_data[train_data == \"YES\"] = \"2\"\n",
    "train_data[train_data == \"NO\"] = \"1\"\n",
    "train_data[train_data == \"M\"] = \"1\"\n",
    "train_data[train_data == \"F\"] = \"2\"\n",
    "mask = (train_data == 'x')\n",
    "rows_with_x = np.any(mask, axis=1)\n",
    "train_data = train_data[~rows_with_x]\n",
    "train_data[:5]\n",
    "train_data = train_data.astype(int)"
   ]
  },
  {
   "cell_type": "markdown",
   "metadata": {},
   "source": [
    "#### 5. Split Data Into Separate Training and Test Set"
   ]
  },
  {
   "cell_type": "code",
   "execution_count": 510,
   "metadata": {},
   "outputs": [
    {
     "data": {
      "text/plain": [
       "array([2, 2, 2, 2, 1, 2, 2, 2, 2, 1, 2, 2, 2, 2, 2, 2, 2, 1, 2, 2, 2, 2,\n",
       "       2, 2, 1, 2, 2, 2, 2, 2, 2, 1, 2, 2, 2, 2, 1, 2, 2, 2, 1, 2, 1, 2,\n",
       "       1, 2, 2, 2, 2, 2, 2, 2, 2, 2, 2, 2, 2, 2, 2, 2, 2, 2, 2, 2, 2, 2,\n",
       "       2, 2, 2, 2, 1, 2, 2, 2, 2, 2, 2, 2, 2, 2, 2, 2, 2, 2, 2, 2, 1, 2,\n",
       "       2, 2, 2, 2, 2, 2, 2, 1, 1, 2, 2, 1, 2, 2, 2, 2, 2, 2, 2, 2, 2, 2,\n",
       "       2, 2, 2, 1, 2, 2, 2, 2, 2, 2, 1, 2, 2, 2, 2, 2, 2, 2, 2, 2, 2, 2,\n",
       "       2, 2, 1, 2, 2, 2, 2, 2, 2, 2, 2, 2, 2, 2, 2, 2, 2, 2, 2, 2, 2, 2,\n",
       "       2, 2, 2, 2, 2, 2, 2, 2, 2, 2, 2, 1, 2, 1, 1, 2, 2, 2, 2, 2, 2, 2,\n",
       "       2, 2, 2, 1, 2, 2, 2, 2, 2, 2, 1, 2, 2, 2, 2, 2, 1, 2, 2, 2, 2, 1,\n",
       "       2, 2, 2, 2, 2, 2, 2, 2, 2, 2, 2, 2, 2, 2, 2, 2, 2, 2, 2, 2, 2, 2,\n",
       "       2, 2, 2, 2, 2, 1, 2, 2, 2, 2, 2, 2, 2, 2, 1, 2])"
      ]
     },
     "execution_count": 510,
     "metadata": {},
     "output_type": "execute_result"
    }
   ],
   "source": [
    "x_data = train_data[:, 0:train_data.shape[1] - 1]\n",
    "y_data = train_data[:, -1]\n",
    "train_size = int(0.8 * x_data.shape[0])\n",
    "indices = np.arange(x_data.shape[0])\n",
    "np.random.shuffle(indices)\n",
    "train_indices = indices[:train_size]\n",
    "test_indices = indices[train_size:]\n",
    "x_train = x_data[train_indices]\n",
    "y_train = y_data[train_indices]\n",
    "x_test = x_data[test_indices]\n",
    "y_test = y_data[test_indices]\n",
    "y_train"
   ]
  },
  {
   "cell_type": "markdown",
   "metadata": {},
   "source": [
    "#### 6. Implement the Naive Bayes\n",
    "Here we implement the Naive Bayes classifier, using multinomial NB for the categorical features and Gaussian NB for the continuous features."
   ]
  },
  {
   "cell_type": "code",
   "execution_count": 511,
   "metadata": {},
   "outputs": [],
   "source": [
    "class Naive_Bayes:\n",
    "    def __init__(self, x_train1, y_train1):\n",
    "        self.x_train = x_train1\n",
    "        self.y_train = y_train1\n",
    "        self.mean_1 = np.mean(x_train[:, 1][y_train==1])\n",
    "        self.mean_2 = np.mean(x_train[:, 1][y_train==2])\n",
    "        self.var_1 = np.var(x_train[:, 1][y_train==1])\n",
    "        self.var_2 = np.var(x_train[:, 1][y_train==2])\n",
    "        self.prior_1, self.prior_2 = self.prior_probabilities()\n",
    "\n",
    "    def prior_probabilities(self):\n",
    "        count_1 = y_train[y_train==1].shape[0]\n",
    "        count_2 = y_train[y_train==2].shape[0]\n",
    "        return count_1 / y_train.shape[0], count_2 / y_train.shape[0]\n",
    "\n",
    "    def gaussian_density(self, x, mean, var):\n",
    "        exponent = np.exp(-(x-mean)**2 / (2 * var))\n",
    "        return (1 / (np.sqrt(2 * np.pi * var))) * exponent\n",
    "\n",
    "    def class_conditional(self, x, omega, i):\n",
    "        # if i == 1:\n",
    "        #     if omega == 1:\n",
    "        #         return self.gaussian_density(x, self.mean_1, self.var_1)\n",
    "        #     return self.gaussian_density(x, self.mean_2, self.var_2)\n",
    "        lst_x = x_train[:, i][y_train==omega]\n",
    "        return (len(lst_x[lst_x==x]) + 1) / (len(lst_x) + 1)\n",
    "\n",
    "    def predict(self, x):\n",
    "        ls1 = []\n",
    "        ls2 = []\n",
    "        for i in range(len(x)):\n",
    "            ls1.append(self.class_conditional(x[i], 1, i))\n",
    "            ls2.append(self.class_conditional(x[i], 2, i))\n",
    "        y_pred = np.argmax([self.prior_1 * np.prod(ls1), self.prior_2 * np.prod(ls2)]) + 1\n",
    "        return y_pred\n",
    "    \n",
    "    def get_prediction(self, x_test):\n",
    "        y_pred = [self.predict(x) for x in x_test]\n",
    "        return y_pred        \n"
   ]
  },
  {
   "cell_type": "code",
   "execution_count": 512,
   "metadata": {},
   "outputs": [],
   "source": [
    "NB1 = Naive_Bayes(x_train, y_train)\n",
    "y_train_pred = NB1.get_prediction(x_train)\n",
    "y_pred = NB1.get_prediction(x_test)"
   ]
  },
  {
   "cell_type": "markdown",
   "metadata": {},
   "source": [
    "Now that we have implemented the Naive Bayes from scratch without using any libraries, we will now import the Sci-Kit learn library to easily evaluate the model with metrics and confusion matrix."
   ]
  },
  {
   "cell_type": "code",
   "execution_count": 513,
   "metadata": {},
   "outputs": [],
   "source": [
    "from sklearn.metrics import accuracy_score, precision_score,\\\n",
    "      recall_score, f1_score, confusion_matrix, classification_report\n"
   ]
  },
  {
   "cell_type": "code",
   "execution_count": 514,
   "metadata": {},
   "outputs": [
    {
     "name": "stdout",
     "output_type": "stream",
     "text": [
      "Test Accuracy: 0.8813559322033898\n",
      "Test Precision: 0.75\n",
      "Test Recall: 0.6923076923076923\n",
      "Test F1 Score: 0.72\n"
     ]
    }
   ],
   "source": [
    "accuracy_test = accuracy_score(y_test, y_pred)\n",
    "print(f\"Test Accuracy: {accuracy_test}\")\n",
    "\n",
    "average_type = 'binary' \n",
    "\n",
    "precision_test = precision_score(y_test, y_pred, average=average_type)\n",
    "recall_test = recall_score(y_test, y_pred, average=average_type)\n",
    "f1_test = f1_score(y_test, y_pred, average=average_type)\n",
    "\n",
    "print(f\"Test Precision: {precision_test}\")\n",
    "print(f\"Test Recall: {recall_test}\")\n",
    "print(f\"Test F1 Score: {f1_test}\")\n"
   ]
  },
  {
   "cell_type": "code",
   "execution_count": 515,
   "metadata": {},
   "outputs": [
    {
     "name": "stdout",
     "output_type": "stream",
     "text": [
      "Confusion Matrix:\n",
      " [[ 9  4]\n",
      " [ 3 43]]\n"
     ]
    }
   ],
   "source": [
    "cm = confusion_matrix(y_test, y_pred)\n",
    "print(\"Confusion Matrix:\\n\", cm)\n"
   ]
  },
  {
   "cell_type": "code",
   "execution_count": 516,
   "metadata": {},
   "outputs": [
    {
     "name": "stdout",
     "output_type": "stream",
     "text": [
      "              precision    recall  f1-score   support\n",
      "\n",
      "           1       0.75      0.69      0.72        13\n",
      "           2       0.91      0.93      0.92        46\n",
      "\n",
      "    accuracy                           0.88        59\n",
      "   macro avg       0.83      0.81      0.82        59\n",
      "weighted avg       0.88      0.88      0.88        59\n",
      "\n"
     ]
    }
   ],
   "source": [
    "print(classification_report(y_test, y_pred))"
   ]
  },
  {
   "cell_type": "markdown",
   "metadata": {},
   "source": [
    "### c) Implement Using Sci-Kit Learn"
   ]
  },
  {
   "cell_type": "code",
   "execution_count": 535,
   "metadata": {},
   "outputs": [],
   "source": [
    "from sklearn.naive_bayes import GaussianNB\n",
    "\n",
    "model = GaussianNB()\n",
    "\n",
    "model.fit(x_train, y_train)\n",
    "y_pred = model.predict(x_test)"
   ]
  },
  {
   "cell_type": "code",
   "execution_count": 536,
   "metadata": {},
   "outputs": [
    {
     "name": "stdout",
     "output_type": "stream",
     "text": [
      "Test Accuracy: 0.847457627118644\n",
      "Test Precision: 0.75\n",
      "Test Recall: 0.46153846153846156\n",
      "Test F1 Score: 0.5714285714285714\n"
     ]
    }
   ],
   "source": [
    "accuracy_test = accuracy_score(y_test, y_pred)\n",
    "print(f\"Test Accuracy: {accuracy_test}\")\n",
    "\n",
    "average_type = 'binary'\n",
    "\n",
    "precision_test = precision_score(y_test, y_pred, average=average_type)\n",
    "recall_test = recall_score(y_test, y_pred, average=average_type)\n",
    "f1_test = f1_score(y_test, y_pred, average=average_type)\n",
    "\n",
    "print(f\"Test Precision: {precision_test}\")\n",
    "print(f\"Test Recall: {recall_test}\")\n",
    "print(f\"Test F1 Score: {f1_test}\")\n"
   ]
  },
  {
   "cell_type": "code",
   "execution_count": 537,
   "metadata": {},
   "outputs": [
    {
     "name": "stdout",
     "output_type": "stream",
     "text": [
      "Confusion Matrix:\n",
      " [[ 6  7]\n",
      " [ 2 44]]\n"
     ]
    }
   ],
   "source": [
    "cm = confusion_matrix(y_test, y_pred)\n",
    "print(\"Confusion Matrix:\\n\", cm)\n"
   ]
  },
  {
   "cell_type": "markdown",
   "metadata": {},
   "source": [
    "Comparing the results, looking at accuracy, precision, recall and F1-score, we can see that our own model that was designed around the dataset performs slightly better."
   ]
  },
  {
   "cell_type": "markdown",
   "metadata": {},
   "source": [
    "Lung cancer detection is highly important. That is why we need to look for classifiers that are safe and sure in detecting when there is cancer. Here, looking at the confusion matrices, we can clearly see that the classifier misses the cancer more than we can afford to. Thus for this application, although the accuracy of the classifier is good enough, but we need to look for alternatives that will not miss cancer detection as frequently. Naive Bayes can be used in tasks that are not as critical as cancer detection systems, like the classic example of email spam detection."
   ]
  },
  {
   "cell_type": "markdown",
   "metadata": {},
   "source": [
    "The reason could be that the features here are highly dependent on one another and this goes against the conditional indpendence assumption of the Naive Bayes classifer."
   ]
  },
  {
   "cell_type": "markdown",
   "metadata": {},
   "source": [
    "### d) Web Page Phishing Dataset\n",
    "This time, we are using Naive Bayes for a task that we know it is known to do well on. Naive Bayes performs well in detecting text-based fraud/spam. Here, we use it to detect which websites are phishing and which are not, a very similar task in tone."
   ]
  },
  {
   "cell_type": "markdown",
   "metadata": {},
   "source": [
    "##### 1. Import Dataset"
   ]
  },
  {
   "cell_type": "code",
   "execution_count": 553,
   "metadata": {},
   "outputs": [],
   "source": [
    "data = \"./data/web-page-phishing.csv\"\n",
    "\n",
    "df = pd.read_csv(data, sep=',')"
   ]
  },
  {
   "cell_type": "markdown",
   "metadata": {},
   "source": [
    "#### 2. Exploratory data analysis"
   ]
  },
  {
   "cell_type": "code",
   "execution_count": 554,
   "metadata": {},
   "outputs": [
    {
     "data": {
      "text/plain": [
       "(100077, 20)"
      ]
     },
     "execution_count": 554,
     "metadata": {},
     "output_type": "execute_result"
    }
   ],
   "source": [
    "# Dimensions (data_num, feature_num)\n",
    "df.shape"
   ]
  },
  {
   "cell_type": "code",
   "execution_count": 555,
   "metadata": {},
   "outputs": [
    {
     "data": {
      "text/html": [
       "<div>\n",
       "<style scoped>\n",
       "    .dataframe tbody tr th:only-of-type {\n",
       "        vertical-align: middle;\n",
       "    }\n",
       "\n",
       "    .dataframe tbody tr th {\n",
       "        vertical-align: top;\n",
       "    }\n",
       "\n",
       "    .dataframe thead th {\n",
       "        text-align: right;\n",
       "    }\n",
       "</style>\n",
       "<table border=\"1\" class=\"dataframe\">\n",
       "  <thead>\n",
       "    <tr style=\"text-align: right;\">\n",
       "      <th></th>\n",
       "      <th>url_length</th>\n",
       "      <th>n_dots</th>\n",
       "      <th>n_hypens</th>\n",
       "      <th>n_underline</th>\n",
       "      <th>n_slash</th>\n",
       "      <th>n_questionmark</th>\n",
       "      <th>n_equal</th>\n",
       "      <th>n_at</th>\n",
       "      <th>n_and</th>\n",
       "      <th>n_exclamation</th>\n",
       "      <th>n_space</th>\n",
       "      <th>n_tilde</th>\n",
       "      <th>n_comma</th>\n",
       "      <th>n_plus</th>\n",
       "      <th>n_asterisk</th>\n",
       "      <th>n_hastag</th>\n",
       "      <th>n_dollar</th>\n",
       "      <th>n_percent</th>\n",
       "      <th>n_redirection</th>\n",
       "      <th>phishing</th>\n",
       "    </tr>\n",
       "  </thead>\n",
       "  <tbody>\n",
       "    <tr>\n",
       "      <th>0</th>\n",
       "      <td>37</td>\n",
       "      <td>3</td>\n",
       "      <td>0</td>\n",
       "      <td>0</td>\n",
       "      <td>0</td>\n",
       "      <td>0</td>\n",
       "      <td>0</td>\n",
       "      <td>0</td>\n",
       "      <td>0</td>\n",
       "      <td>0</td>\n",
       "      <td>0</td>\n",
       "      <td>0</td>\n",
       "      <td>0</td>\n",
       "      <td>0</td>\n",
       "      <td>0</td>\n",
       "      <td>0</td>\n",
       "      <td>0</td>\n",
       "      <td>0</td>\n",
       "      <td>0</td>\n",
       "      <td>0</td>\n",
       "    </tr>\n",
       "    <tr>\n",
       "      <th>1</th>\n",
       "      <td>77</td>\n",
       "      <td>1</td>\n",
       "      <td>0</td>\n",
       "      <td>0</td>\n",
       "      <td>0</td>\n",
       "      <td>0</td>\n",
       "      <td>0</td>\n",
       "      <td>0</td>\n",
       "      <td>0</td>\n",
       "      <td>0</td>\n",
       "      <td>0</td>\n",
       "      <td>0</td>\n",
       "      <td>0</td>\n",
       "      <td>0</td>\n",
       "      <td>0</td>\n",
       "      <td>0</td>\n",
       "      <td>0</td>\n",
       "      <td>0</td>\n",
       "      <td>1</td>\n",
       "      <td>1</td>\n",
       "    </tr>\n",
       "    <tr>\n",
       "      <th>2</th>\n",
       "      <td>126</td>\n",
       "      <td>4</td>\n",
       "      <td>1</td>\n",
       "      <td>2</td>\n",
       "      <td>0</td>\n",
       "      <td>1</td>\n",
       "      <td>3</td>\n",
       "      <td>0</td>\n",
       "      <td>2</td>\n",
       "      <td>0</td>\n",
       "      <td>0</td>\n",
       "      <td>0</td>\n",
       "      <td>0</td>\n",
       "      <td>0</td>\n",
       "      <td>0</td>\n",
       "      <td>0</td>\n",
       "      <td>0</td>\n",
       "      <td>0</td>\n",
       "      <td>1</td>\n",
       "      <td>1</td>\n",
       "    </tr>\n",
       "    <tr>\n",
       "      <th>3</th>\n",
       "      <td>18</td>\n",
       "      <td>2</td>\n",
       "      <td>0</td>\n",
       "      <td>0</td>\n",
       "      <td>0</td>\n",
       "      <td>0</td>\n",
       "      <td>0</td>\n",
       "      <td>0</td>\n",
       "      <td>0</td>\n",
       "      <td>0</td>\n",
       "      <td>0</td>\n",
       "      <td>0</td>\n",
       "      <td>0</td>\n",
       "      <td>0</td>\n",
       "      <td>0</td>\n",
       "      <td>0</td>\n",
       "      <td>0</td>\n",
       "      <td>0</td>\n",
       "      <td>1</td>\n",
       "      <td>0</td>\n",
       "    </tr>\n",
       "    <tr>\n",
       "      <th>4</th>\n",
       "      <td>55</td>\n",
       "      <td>2</td>\n",
       "      <td>2</td>\n",
       "      <td>0</td>\n",
       "      <td>0</td>\n",
       "      <td>0</td>\n",
       "      <td>0</td>\n",
       "      <td>0</td>\n",
       "      <td>0</td>\n",
       "      <td>0</td>\n",
       "      <td>0</td>\n",
       "      <td>0</td>\n",
       "      <td>0</td>\n",
       "      <td>0</td>\n",
       "      <td>0</td>\n",
       "      <td>0</td>\n",
       "      <td>0</td>\n",
       "      <td>0</td>\n",
       "      <td>1</td>\n",
       "      <td>0</td>\n",
       "    </tr>\n",
       "  </tbody>\n",
       "</table>\n",
       "</div>"
      ],
      "text/plain": [
       "   url_length  n_dots  n_hypens  n_underline  n_slash  n_questionmark  \\\n",
       "0          37       3         0            0        0               0   \n",
       "1          77       1         0            0        0               0   \n",
       "2         126       4         1            2        0               1   \n",
       "3          18       2         0            0        0               0   \n",
       "4          55       2         2            0        0               0   \n",
       "\n",
       "   n_equal  n_at  n_and  n_exclamation  n_space  n_tilde  n_comma  n_plus  \\\n",
       "0        0     0      0              0        0        0        0       0   \n",
       "1        0     0      0              0        0        0        0       0   \n",
       "2        3     0      2              0        0        0        0       0   \n",
       "3        0     0      0              0        0        0        0       0   \n",
       "4        0     0      0              0        0        0        0       0   \n",
       "\n",
       "   n_asterisk  n_hastag  n_dollar  n_percent  n_redirection  phishing  \n",
       "0           0         0         0          0              0         0  \n",
       "1           0         0         0          0              1         1  \n",
       "2           0         0         0          0              1         1  \n",
       "3           0         0         0          0              1         0  \n",
       "4           0         0         0          0              1         0  "
      ]
     },
     "execution_count": 555,
     "metadata": {},
     "output_type": "execute_result"
    }
   ],
   "source": [
    "# Preview of the first 5 rows\n",
    "df.head()"
   ]
  },
  {
   "cell_type": "code",
   "execution_count": 556,
   "metadata": {},
   "outputs": [
    {
     "name": "stdout",
     "output_type": "stream",
     "text": [
      "<class 'pandas.core.frame.DataFrame'>\n",
      "RangeIndex: 100077 entries, 0 to 100076\n",
      "Data columns (total 20 columns):\n",
      " #   Column          Non-Null Count   Dtype\n",
      "---  ------          --------------   -----\n",
      " 0   url_length      100077 non-null  int64\n",
      " 1   n_dots          100077 non-null  int64\n",
      " 2   n_hypens        100077 non-null  int64\n",
      " 3   n_underline     100077 non-null  int64\n",
      " 4   n_slash         100077 non-null  int64\n",
      " 5   n_questionmark  100077 non-null  int64\n",
      " 6   n_equal         100077 non-null  int64\n",
      " 7   n_at            100077 non-null  int64\n",
      " 8   n_and           100077 non-null  int64\n",
      " 9   n_exclamation   100077 non-null  int64\n",
      " 10  n_space         100077 non-null  int64\n",
      " 11  n_tilde         100077 non-null  int64\n",
      " 12  n_comma         100077 non-null  int64\n",
      " 13  n_plus          100077 non-null  int64\n",
      " 14  n_asterisk      100077 non-null  int64\n",
      " 15  n_hastag        100077 non-null  int64\n",
      " 16  n_dollar        100077 non-null  int64\n",
      " 17  n_percent       100077 non-null  int64\n",
      " 18  n_redirection   100077 non-null  int64\n",
      " 19  phishing        100077 non-null  int64\n",
      "dtypes: int64(20)\n",
      "memory usage: 15.3 MB\n"
     ]
    }
   ],
   "source": [
    "# Summary\n",
    "df.info()"
   ]
  },
  {
   "cell_type": "markdown",
   "metadata": {},
   "source": [
    "#### 3. Split the Training/Test Sets"
   ]
  },
  {
   "cell_type": "code",
   "execution_count": 559,
   "metadata": {},
   "outputs": [
    {
     "data": {
      "text/plain": [
       "(80061,)"
      ]
     },
     "execution_count": 559,
     "metadata": {},
     "output_type": "execute_result"
    }
   ],
   "source": [
    "train_data = df.values\n",
    "x_data = train_data[:, 0:train_data.shape[1] - 1]\n",
    "y_data = train_data[:, -1]\n",
    "train_size = int(0.8 * x_data.shape[0])\n",
    "indices = np.arange(x_data.shape[0])\n",
    "np.random.shuffle(indices)\n",
    "train_indices = indices[:train_size]\n",
    "test_indices = indices[train_size:]\n",
    "x_train = x_data[train_indices]\n",
    "y_train = y_data[train_indices]\n",
    "x_test = x_data[test_indices]\n",
    "y_test = y_data[test_indices]\n",
    "y_train.shape"
   ]
  },
  {
   "cell_type": "markdown",
   "metadata": {},
   "source": [
    "#### 4. Implemented from Scratch Naive Bayes"
   ]
  },
  {
   "cell_type": "code",
   "execution_count": 560,
   "metadata": {},
   "outputs": [
    {
     "name": "stderr",
     "output_type": "stream",
     "text": [
      "/Library/Frameworks/Python.framework/Versions/3.10/lib/python3.10/site-packages/numpy/core/fromnumeric.py:3504: RuntimeWarning: Mean of empty slice.\n",
      "  return _methods._mean(a, axis=axis, dtype=dtype,\n",
      "/Library/Frameworks/Python.framework/Versions/3.10/lib/python3.10/site-packages/numpy/core/_methods.py:129: RuntimeWarning: invalid value encountered in scalar divide\n",
      "  ret = ret.dtype.type(ret / rcount)\n",
      "/Library/Frameworks/Python.framework/Versions/3.10/lib/python3.10/site-packages/numpy/core/fromnumeric.py:3787: RuntimeWarning: Degrees of freedom <= 0 for slice\n",
      "  return _methods._var(a, axis=axis, dtype=dtype, out=out, ddof=ddof,\n",
      "/Library/Frameworks/Python.framework/Versions/3.10/lib/python3.10/site-packages/numpy/core/_methods.py:163: RuntimeWarning: invalid value encountered in divide\n",
      "  arrmean = um.true_divide(arrmean, div, out=arrmean,\n",
      "/Library/Frameworks/Python.framework/Versions/3.10/lib/python3.10/site-packages/numpy/core/_methods.py:198: RuntimeWarning: invalid value encountered in scalar divide\n",
      "  ret = ret.dtype.type(ret / rcount)\n"
     ]
    }
   ],
   "source": [
    "# Instantiate a new naive bayes classifier\n",
    "NB2 = Naive_Bayes(x_train, y_train)\n",
    "y_pred = NB2.get_prediction(x_test)"
   ]
  },
  {
   "cell_type": "code",
   "execution_count": null,
   "metadata": {},
   "outputs": [],
   "source": [
    "accuracy_test = accuracy_score(y_test, y_pred)\n",
    "print(f\"Test Accuracy: {accuracy_test}\")\n",
    "\n",
    "average_type = 'binary' \n",
    "\n",
    "precision_test = precision_score(y_test, y_pred, average=average_type)\n",
    "recall_test = recall_score(y_test, y_pred, average=average_type)\n",
    "f1_test = f1_score(y_test, y_pred, average=average_type)\n",
    "\n",
    "print(f\"Test Precision: {precision_test}\")\n",
    "print(f\"Test Recall: {recall_test}\")\n",
    "print(f\"Test F1 Score: {f1_test}\")"
   ]
  },
  {
   "cell_type": "code",
   "execution_count": null,
   "metadata": {},
   "outputs": [],
   "source": [
    "cm = confusion_matrix(y_test, y_pred)\n",
    "print(\"Confusion Matrix:\\n\", cm)"
   ]
  },
  {
   "cell_type": "markdown",
   "metadata": {},
   "source": [
    "#### 5. Using Sci-Kit Learn"
   ]
  },
  {
   "cell_type": "code",
   "execution_count": null,
   "metadata": {},
   "outputs": [],
   "source": [
    "from sklearn.naive_bayes import GaussianNB\n",
    "\n",
    "model = GaussianNB()\n",
    "\n",
    "model.fit(x_train, y_train)\n",
    "y_pred = model.predict(x_test)"
   ]
  },
  {
   "cell_type": "code",
   "execution_count": null,
   "metadata": {},
   "outputs": [],
   "source": [
    "accuracy_test = accuracy_score(y_test, y_pred)\n",
    "print(f\"Test Accuracy: {accuracy_test}\")\n",
    "\n",
    "average_type = 'binary' \n",
    "\n",
    "precision_test = precision_score(y_test, y_pred, average=average_type)\n",
    "recall_test = recall_score(y_test, y_pred, average=average_type)\n",
    "f1_test = f1_score(y_test, y_pred, average=average_type)\n",
    "\n",
    "print(f\"Test Precision: {precision_test}\")\n",
    "print(f\"Test Recall: {recall_test}\")\n",
    "print(f\"Test F1 Score: {f1_test}\")"
   ]
  },
  {
   "cell_type": "code",
   "execution_count": null,
   "metadata": {},
   "outputs": [],
   "source": [
    "cm = confusion_matrix(y_test, y_pred)\n",
    "print(\"Confusion Matrix:\\n\", cm)"
   ]
  }
 ],
 "metadata": {
  "kernelspec": {
   "display_name": "Python 3",
   "language": "python",
   "name": "python3"
  },
  "language_info": {
   "codemirror_mode": {
    "name": "ipython",
    "version": 3
   },
   "file_extension": ".py",
   "mimetype": "text/x-python",
   "name": "python",
   "nbconvert_exporter": "python",
   "pygments_lexer": "ipython3",
   "version": "3.10.1"
  }
 },
 "nbformat": 4,
 "nbformat_minor": 2
}
